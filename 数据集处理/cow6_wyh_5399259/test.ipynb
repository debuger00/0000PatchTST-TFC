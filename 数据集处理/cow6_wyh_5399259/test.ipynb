{
 "cells": [
  {
   "cell_type": "code",
   "execution_count": 1,
   "metadata": {},
   "outputs": [],
   "source": [
    "import pandas as pd\n",
    "import numpy as np\n",
    "import torch"
   ]
  },
  {
   "cell_type": "code",
   "execution_count": 5,
   "metadata": {},
   "outputs": [
    {
     "name": "stdout",
     "output_type": "stream",
     "text": [
      "Generated 3117 samples, and saved to 'cow_segments.pt'\n"
     ]
    }
   ],
   "source": [
    "# 读取CSV文件\n",
    "df = pd.read_csv('cow1.csv')\n",
    "\n",
    "# 只保留加速度数据列，不需要 label 列\n",
    "df = df[['AccX', 'AccY', 'AccZ']]\n",
    "\n",
    "# 定义窗口大小和步长\n",
    "WINDOW_SIZE = 200\n",
    "STEP_SIZE = 100  # 50% overlap, 滑动100行\n",
    "\n",
    "# 保存样本的列表\n",
    "samples = []\n",
    "\n",
    "# 滑动窗口获取样本\n",
    "for start in range(0, len(df) - WINDOW_SIZE + 1, STEP_SIZE):\n",
    "    sample = df.iloc[start:start + WINDOW_SIZE].values\n",
    "    samples.append(sample)\n",
    "\n",
    "# 转换为 NumPy 数组并确保为浮点类型\n",
    "samples_array = np.array(samples, dtype=np.float32)\n",
    "\n",
    "# 转换为 PyTorch 张量\n",
    "tensor_samples = torch.from_numpy(samples_array)\n",
    "\n",
    "# 保存为.pt文件\n",
    "torch.save(tensor_samples, 'cow_segments.pt')\n",
    "\n",
    "print(f\"Generated {len(samples)} samples, and saved to 'cow_segments.pt'\")\n"
   ]
  }
 ],
 "metadata": {
  "kernelspec": {
   "display_name": "pytorch",
   "language": "python",
   "name": "python3"
  },
  "language_info": {
   "codemirror_mode": {
    "name": "ipython",
    "version": 3
   },
   "file_extension": ".py",
   "mimetype": "text/x-python",
   "name": "python",
   "nbconvert_exporter": "python",
   "pygments_lexer": "ipython3",
   "version": "3.9.19"
  }
 },
 "nbformat": 4,
 "nbformat_minor": 2
}
